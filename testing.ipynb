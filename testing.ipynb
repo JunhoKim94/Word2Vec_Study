{
 "cells": [
  {
   "cell_type": "code",
   "execution_count": 1,
   "metadata": {},
   "outputs": [],
   "source": [
    "import numpy as np\n",
    "from model.layers import Embedding, Sigmoid, Softmax, Linear\n",
    "from utils import _Huffman_Tree, corpus_making, delete_low_freq, train_data_gen"
   ]
  },
  {
   "cell_type": "code",
   "execution_count": 46,
   "metadata": {},
   "outputs": [],
   "source": [
    "import numpy as np\n",
    "from model.layers import Embedding, Sigmoid, Softmax, Linear\n",
    "from utils import _Huffman_Tree\n",
    "\n",
    "class BCELoss:\n",
    "    def __init__(self):\n",
    "        self.params = None\n",
    "        self.grads = None\n",
    "        self.eps = 1e-8\n",
    "\n",
    "        self.y_pred , self.target = None, None\n",
    "        self.loss = None\n",
    "\n",
    "    def forward(self, y_pred, target, dim = 1):\n",
    "\n",
    "        self.y_pred = y_pred\n",
    "        self.target = target\n",
    "        self.dim = dim\n",
    "        \n",
    "        self.loss = -self.target * np.log(self.y_pred + self.eps) - (1 - self.target) * np.log(1 - self.y_pred + self.eps)\n",
    "        self.loss = np.sum(self.loss, axis = dim)\n",
    "\n",
    "        return self.loss\n",
    "\n",
    "    def backward(self, dout = 1):\n",
    "        dx = (self.y_pred - self.target) / (self.y_pred * (1 - self.y_pred) + + self.eps) \n",
    "        return dx * dout\n",
    "\n",
    "class Hsoftmax:\n",
    "    def __init__(self, vocab_size, projection, sample_size):\n",
    "        self.Embedding = Embedding(vocab_size, projection)\n",
    "        self.HSvector = Embedding(vocab_size - 1 , projection)\n",
    "        self.sigmoid = Sigmoid()\n",
    "        self.sample_size = sample_size\n",
    "\n",
    "        self.layers = [self.Embedding, self.HSvector]\n",
    "\n",
    "        self.params = []\n",
    "        self.grads = []\n",
    "\n",
    "        for layer in self.layers:\n",
    "            self.params.append(layer.params)\n",
    "            self.grads.append(layer.grads)\n",
    "\n",
    "    def forward(self, x, label):\n",
    "        '''\n",
    "        inputs : 1 x D(projection)\n",
    "        label : 1 x [direction_path(1, depth), idx_path(1, depth)]\n",
    "        label 과 output 의 argmax를 비교해서 같으면 1 틀리면 0 을 부여한 후 이를 target vector로 설정해야됨\n",
    "        '''\n",
    "\n",
    "        dir_path = np.array(label[0])\n",
    "        idx_path = np.expand_dims(label[1], 1)\n",
    "        self.x = x\n",
    "        \n",
    "        self.hidden = self.Embedding.forward(x)\n",
    "\n",
    "        self.hirearchy_vectors = self.HSvector.forward(dir_path)\n",
    "\n",
    "        out = np.matmul(self.hirearchy_vectors , self.hidden.T )\n",
    "\n",
    "        out = self.sigmoid.forward(out)\n",
    "\n",
    "        mask = np.zeros_like(out)\n",
    "        mask[mask >= 0.5] = 1\n",
    "\n",
    "        target = np.zeros_like(out)\n",
    "        target[mask == idx_path] = 1\n",
    "\n",
    "        return out , target\n",
    "\n",
    "    def backward(self, dout):\n",
    "\n",
    "        W_in, W_out = self.params\n",
    "        #length x 1\n",
    "        d_sig = self.sigmoid.backward(dout)\n",
    "\n",
    "        #vocab -1 x hidden\n",
    "        d_lin = np.matmul(d_sig , self.hidden)\n",
    "        d_h = np.matmul(dout.T, self.hirearchy_vectors)\n",
    "\n",
    "        self.HSvector.backward(d_lin)\n",
    "        self.Embedding.backward(d_h)"
   ]
  },
  {
   "cell_type": "code",
   "execution_count": 3,
   "metadata": {},
   "outputs": [],
   "source": [
    "path = \"./data/text8.txt\""
   ]
  },
  {
   "cell_type": "code",
   "execution_count": 4,
   "metadata": {},
   "outputs": [
    {
     "name": "stderr",
     "output_type": "stream",
     "text": [
      "MAKING CORPUS: 100%|██████████████████████████████████████████████████████████████| 2000/2000 [00:10<00:00, 197.23it/s]\n"
     ]
    }
   ],
   "source": [
    "word2idx , idx2word = corpus_making(path, batch= 50000)\n",
    "word2idx, idx2word = delete_low_freq(word2idx, idx2word, 10)"
   ]
  },
  {
   "cell_type": "code",
   "execution_count": 5,
   "metadata": {},
   "outputs": [
    {
     "name": "stderr",
     "output_type": "stream",
     "text": [
      "Making Train_set: 100%|████████████████████████████████████████████████████████████| 2000/2000 [00:38<00:00, 51.77it/s]\n"
     ]
    }
   ],
   "source": [
    "train_set_idx, total_len = train_data_gen(path = path, word2idx = word2idx, max_distance= 3, batch = 50000)"
   ]
  },
  {
   "cell_type": "code",
   "execution_count": 6,
   "metadata": {},
   "outputs": [
    {
     "name": "stderr",
     "output_type": "stream",
     "text": [
      "Huffman_Tree: 100%|██████████████████████████████████████████████████████████| 47158/47158 [00:00<00:00, 194584.73it/s]\n"
     ]
    }
   ],
   "source": [
    "b_tree, max_ = _Huffman_Tree(word2idx)"
   ]
  },
  {
   "cell_type": "code",
   "execution_count": 47,
   "metadata": {},
   "outputs": [],
   "source": [
    "total_num = len(word2idx)\n",
    "model = Hsoftmax(total_num, 200, 3)\n",
    "criterion = BCELoss()"
   ]
  },
  {
   "cell_type": "code",
   "execution_count": 8,
   "metadata": {},
   "outputs": [],
   "source": [
    "label = np.array([[path, idx_path] for _, _, idx_path ,path in b_tree])"
   ]
  },
  {
   "cell_type": "code",
   "execution_count": 53,
   "metadata": {},
   "outputs": [],
   "source": [
    "batch_train = train_set_idx[np.random.choice(100, 1)]\n",
    "\n",
    "x_train = batch_train[:,3]\n",
    "label_train_idx = np.delete(batch_train , 3)\n",
    "\n",
    "#N x [path(2C), idx_path(2C)]\n",
    "label_train = label[np.random.choice(label_train_idx, 3)]"
   ]
  },
  {
   "cell_type": "code",
   "execution_count": 60,
   "metadata": {},
   "outputs": [
    {
     "name": "stdout",
     "output_type": "stream",
     "text": [
      "[16]\n",
      "[[0. 0. 0. ... 0. 0. 0.]\n",
      " [0. 0. 0. ... 0. 0. 0.]\n",
      " [0. 0. 0. ... 0. 0. 0.]\n",
      " ...\n",
      " [0. 0. 0. ... 0. 0. 0.]\n",
      " [0. 0. 0. ... 0. 0. 0.]\n",
      " [0. 0. 0. ... 0. 0. 0.]]\n",
      "[array([[0., 0., 0., ..., 0., 0., 0.],\n",
      "       [0., 0., 0., ..., 0., 0., 0.],\n",
      "       [0., 0., 0., ..., 0., 0., 0.],\n",
      "       ...,\n",
      "       [0., 0., 0., ..., 0., 0., 0.],\n",
      "       [0., 0., 0., ..., 0., 0., 0.],\n",
      "       [0., 0., 0., ..., 0., 0., 0.]])]\n",
      "[[0. 0. 0. ... 0. 0. 0.]\n",
      " [0. 0. 0. ... 0. 0. 0.]\n",
      " [0. 0. 0. ... 0. 0. 0.]\n",
      " ...\n",
      " [0. 0. 0. ... 0. 0. 0.]\n",
      " [0. 0. 0. ... 0. 0. 0.]\n",
      " [0. 0. 0. ... 0. 0. 0.]]\n",
      "[array([[0., 0., 0., ..., 0., 0., 0.],\n",
      "       [0., 0., 0., ..., 0., 0., 0.],\n",
      "       [0., 0., 0., ..., 0., 0., 0.],\n",
      "       ...,\n",
      "       [0., 0., 0., ..., 0., 0., 0.],\n",
      "       [0., 0., 0., ..., 0., 0., 0.],\n",
      "       [0., 0., 0., ..., 0., 0., 0.]])]\n",
      "[16]\n",
      "[[0. 0. 0. ... 0. 0. 0.]\n",
      " [0. 0. 0. ... 0. 0. 0.]\n",
      " [0. 0. 0. ... 0. 0. 0.]\n",
      " ...\n",
      " [0. 0. 0. ... 0. 0. 0.]\n",
      " [0. 0. 0. ... 0. 0. 0.]\n",
      " [0. 0. 0. ... 0. 0. 0.]]\n",
      "[array([[0., 0., 0., ..., 0., 0., 0.],\n",
      "       [0., 0., 0., ..., 0., 0., 0.],\n",
      "       [0., 0., 0., ..., 0., 0., 0.],\n",
      "       ...,\n",
      "       [0., 0., 0., ..., 0., 0., 0.],\n",
      "       [0., 0., 0., ..., 0., 0., 0.],\n",
      "       [0., 0., 0., ..., 0., 0., 0.]])]\n",
      "[[0. 0. 0. ... 0. 0. 0.]\n",
      " [0. 0. 0. ... 0. 0. 0.]\n",
      " [0. 0. 0. ... 0. 0. 0.]\n",
      " ...\n",
      " [0. 0. 0. ... 0. 0. 0.]\n",
      " [0. 0. 0. ... 0. 0. 0.]\n",
      " [0. 0. 0. ... 0. 0. 0.]]\n",
      "[array([[0., 0., 0., ..., 0., 0., 0.],\n",
      "       [0., 0., 0., ..., 0., 0., 0.],\n",
      "       [0., 0., 0., ..., 0., 0., 0.],\n",
      "       ...,\n",
      "       [0., 0., 0., ..., 0., 0., 0.],\n",
      "       [0., 0., 0., ..., 0., 0., 0.],\n",
      "       [0., 0., 0., ..., 0., 0., 0.]])]\n",
      "[16]\n",
      "[[0. 0. 0. ... 0. 0. 0.]\n",
      " [0. 0. 0. ... 0. 0. 0.]\n",
      " [0. 0. 0. ... 0. 0. 0.]\n",
      " ...\n",
      " [0. 0. 0. ... 0. 0. 0.]\n",
      " [0. 0. 0. ... 0. 0. 0.]\n",
      " [0. 0. 0. ... 0. 0. 0.]]\n",
      "[array([[0., 0., 0., ..., 0., 0., 0.],\n",
      "       [0., 0., 0., ..., 0., 0., 0.],\n",
      "       [0., 0., 0., ..., 0., 0., 0.],\n",
      "       ...,\n",
      "       [0., 0., 0., ..., 0., 0., 0.],\n",
      "       [0., 0., 0., ..., 0., 0., 0.],\n",
      "       [0., 0., 0., ..., 0., 0., 0.]])]\n",
      "[[0. 0. 0. ... 0. 0. 0.]\n",
      " [0. 0. 0. ... 0. 0. 0.]\n",
      " [0. 0. 0. ... 0. 0. 0.]\n",
      " ...\n",
      " [0. 0. 0. ... 0. 0. 0.]\n",
      " [0. 0. 0. ... 0. 0. 0.]\n",
      " [0. 0. 0. ... 0. 0. 0.]]\n",
      "[array([[0., 0., 0., ..., 0., 0., 0.],\n",
      "       [0., 0., 0., ..., 0., 0., 0.],\n",
      "       [0., 0., 0., ..., 0., 0., 0.],\n",
      "       ...,\n",
      "       [0., 0., 0., ..., 0., 0., 0.],\n",
      "       [0., 0., 0., ..., 0., 0., 0.],\n",
      "       [0., 0., 0., ..., 0., 0., 0.]])]\n"
     ]
    }
   ],
   "source": [
    "for x, lab in zip(repeat(x_train), label_train):\n",
    "    print(x)\n",
    "    x = [x]\n",
    "    y, t = model.forward(x, lab)\n",
    "    loss = criterion.forward(y, t, dim = 0)\n",
    "    dloss = criterion.backward()\n",
    "    model.backward(dloss)"
   ]
  },
  {
   "cell_type": "code",
   "execution_count": 55,
   "metadata": {},
   "outputs": [
    {
     "data": {
      "text/plain": [
       "array([[array([47157, 47155, 47152, 47145, 47132, 47107, 47065, 46991, 46859,\n",
       "       46609, 46149, 45345]),\n",
       "        array([0, 1, 0, 0, 0, 1, 0, 1, 1, 0, 1, 1])],\n",
       "       [array([47157, 47155, 47152, 47146, 47134, 47112, 47075, 47004, 46881,\n",
       "       46647, 46218, 45467, 44196, 42198, 39199, 34931, 29140]),\n",
       "        array([0, 1, 1, 0, 1, 1, 0, 0, 0, 1, 0, 0, 0, 0, 1, 1, 1])],\n",
       "       [array([47157, 47156, 47154, 47149, 47139, 47121, 47091, 47035, 46936,\n",
       "       46754, 46417]),\n",
       "        array([1, 1, 0, 0, 1, 1, 1, 0, 1, 1, 1])]], dtype=object)"
      ]
     },
     "execution_count": 55,
     "metadata": {},
     "output_type": "execute_result"
    }
   ],
   "source": [
    "label_train"
   ]
  },
  {
   "cell_type": "code",
   "execution_count": 58,
   "metadata": {},
   "outputs": [],
   "source": [
    "from itertools import repeat"
   ]
  },
  {
   "cell_type": "code",
   "execution_count": null,
   "metadata": {},
   "outputs": [],
   "source": []
  }
 ],
 "metadata": {
  "kernelspec": {
   "display_name": "Python 3",
   "language": "python",
   "name": "python3"
  },
  "language_info": {
   "codemirror_mode": {
    "name": "ipython",
    "version": 3
   },
   "file_extension": ".py",
   "mimetype": "text/x-python",
   "name": "python",
   "nbconvert_exporter": "python",
   "pygments_lexer": "ipython3",
   "version": "3.7.4"
  }
 },
 "nbformat": 4,
 "nbformat_minor": 2
}
