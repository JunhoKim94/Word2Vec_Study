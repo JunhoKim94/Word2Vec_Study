{
 "cells": [
  {
   "cell_type": "code",
   "execution_count": 1,
   "metadata": {},
   "outputs": [],
   "source": [
    "import numpy as np\n",
    "from model.layers import Embedding, Sigmoid, Softmax, Linear\n",
    "from model.w2v_np import HS_skipgram, BCELossWithSigmoid\n",
    "from preprocess import *\n",
    "from optim.optimizer import SGD\n",
    "from itertools import repeat\n",
    "import time\n",
    "import pickle"
   ]
  },
  {
   "cell_type": "code",
   "execution_count": 6,
   "metadata": {},
   "outputs": [],
   "source": [
    "import os \n",
    "from collections import Counter\n",
    "from fuel.utils import find_in_data_path\n",
    "from tqdm import tqdm"
   ]
  },
  {
   "cell_type": "code",
   "execution_count": 4,
   "metadata": {},
   "outputs": [],
   "source": [
    "collect = Counter()\n",
    "batch = 9"
   ]
  },
  {
   "cell_type": "code",
   "execution_count": 2,
   "metadata": {},
   "outputs": [
    {
     "name": "stderr",
     "output_type": "stream",
     "text": [
      "Huffman_Tree: 100%|████████████████████████████████████████████████████████| 500000/500000 [00:01<00:00, 286847.29it/s]\n",
      "Padding Paths: 100%|███████████████████████████████████████████████████████| 500001/500001 [00:00<00:00, 536188.82it/s]\n"
     ]
    }
   ],
   "source": [
    "batch_size = 300\n",
    "sample_size = 5\n",
    "path = \"./data/text8.txt\"\n",
    "\n",
    "path = \"./1-billion-word/training-monolingual.tokenized.shuffled\"\n",
    "\n",
    "with open(\"./data.pickle\", 'rb') as f:\n",
    "    save = pickle.load(f)\n",
    "\n",
    "word2idx = save[\"word2idx\"]\n",
    "idx2word = save[\"idx2word\"]\n",
    "count = save[\"count\"]\n",
    "file_path = save[\"file_path\"]\n",
    "\n",
    "node, max_depth = Huffman_Tree(count)\n",
    "\n",
    "\n",
    "def batch_words(paths):\n",
    "    words = []\n",
    "    for path in paths:\n",
    "        word = recall_word(path)\n",
    "        words += word\n",
    "\n",
    "    return words\n",
    "\n",
    "#sample_size random하게 바꿈. --> 한 corpus에서 더 다양하게 보는게 가능!\n",
    "model = HS_skipgram(len(word2idx), 300, lr = 0.0025)\n",
    "criterion = BCELossWithSigmoid()\n",
    "optimizer = SGD(lr = 0.0025)"
   ]
  },
  {
   "cell_type": "code",
   "execution_count": 10,
   "metadata": {},
   "outputs": [
    {
     "name": "stdout",
     "output_type": "stream",
     "text": [
      "at\n",
      "Edinburgh 0.30282414\n",
      "Park 0.31162\n",
      "Saturday 0.31169322\n",
      "Road 0.32504782\n",
      "evening 0.3295605\n",
      "London 0.33690256\n",
      "outside 0.33829042\n",
      "attended 0.34984368\n",
      "near 0.38105133\n",
      "At 0.6532879\n",
      "it\n",
      "simply 0.45117143\n",
      "everything 0.45989132\n",
      "that 0.46542183\n",
      "anything 0.47166863\n",
      "quite 0.4724815\n",
      "everyone 0.4885736\n",
      "It 0.49071217\n",
      "really 0.50171274\n",
      "something 0.50485367\n",
      "he 0.51202184\n",
      "by\n",
      "triggered 0.2541145\n",
      "driven 0.25763038\n",
      "supported 0.2597864\n",
      "from 0.26166037\n",
      "being 0.26614624\n",
      "funded 0.26727533\n",
      "largely 0.27941975\n",
      "whose 0.27976212\n",
      "among 0.28588504\n",
      "widely 0.2900728\n",
      "from\n",
      "onto 0.28734103\n",
      "while 0.29075235\n",
      "inside 0.29157045\n",
      "received 0.29191315\n",
      "within 0.30176643\n",
      "around 0.30792987\n",
      "into 0.3343986\n",
      "across 0.33947584\n",
      "sent 0.3431851\n",
      "through 0.40406415\n",
      "be\n",
      "receive 0.38566965\n",
      "easily 0.38764942\n",
      "apply 0.38818425\n",
      "begin 0.39031178\n",
      "have 0.39374387\n",
      "mean 0.39423874\n",
      "probably 0.4324797\n",
      "happen 0.4447912\n",
      "prove 0.45811146\n",
      "remain 0.48717964\n",
      "have\n",
      "already 0.3671231\n",
      "believe 0.37119406\n",
      "some 0.3796713\n",
      "never 0.38885027\n",
      "be 0.39374387\n",
      "having 0.40745273\n",
      "haven 0.44727972\n",
      "'ve 0.55045915\n",
      "has 0.56129694\n",
      "had 0.58761\n",
      "he\n",
      "She 0.40064147\n",
      "they 0.42606592\n",
      "Mr 0.43110666\n",
      "Mr. 0.431487\n",
      "his 0.43497247\n",
      "himself 0.44598886\n",
      "him 0.45708153\n",
      "He 0.4940731\n",
      "it 0.51202184\n",
      "she 0.6688577\n",
      "has\n",
      "is 0.3201651\n",
      "having 0.3439007\n",
      "remains 0.34769747\n",
      "previously 0.364656\n",
      "already 0.3649241\n",
      "was 0.36941257\n",
      "hasn 0.43227503\n",
      "recently 0.47396806\n",
      "have 0.5612969\n",
      "had 0.6457635\n",
      "his\n",
      "career 0.37110847\n",
      "My 0.37258664\n",
      "their 0.42402992\n",
      "he 0.43497247\n",
      "Her 0.45206863\n",
      "him 0.48088\n",
      "himself 0.4832632\n",
      "my 0.527405\n",
      "His 0.54204166\n",
      "her 0.631409\n",
      "are\n",
      "cannot 0.39178383\n",
      "many 0.40659896\n",
      "remain 0.42022473\n",
      "aren 0.42473587\n",
      "tend 0.43617898\n",
      "is 0.45396212\n",
      "themselves 0.471744\n",
      "these 0.4894072\n",
      "'re 0.57262975\n",
      "were 0.65130436\n"
     ]
    }
   ],
   "source": [
    "def evaluate(path, model, word2idx, idx2word):\n",
    "    with open(\"./best22model.pickle\", 'rb') as f:\n",
    "        x = pickle.load(f)\n",
    "\n",
    "\n",
    "    model.params = x\n",
    "    for i in range(20,30):\n",
    "        #ex = np.random.choice(len(word2idx), 1)[0]\n",
    "        model.query(idx2word[i], word2idx, idx2word, top = 10)\n",
    "\n",
    "\n",
    "\n",
    "\n",
    "evaluate(\"\",model,word2idx, idx2word)"
   ]
  },
  {
   "cell_type": "code",
   "execution_count": 13,
   "metadata": {},
   "outputs": [
    {
     "data": {
      "text/plain": [
       "array([0.00000e+00, 1.00000e+00, 1.00000e+00, 0.00000e+00, 1.00000e+00,\n",
       "       1.00000e+00, 0.00000e+00, 1.00000e+00, 0.00000e+00, 1.00000e+00,\n",
       "       0.00000e+00, 1.00000e+00, 1.00000e+00, 0.00000e+00, 1.00000e+00,\n",
       "       0.00000e+00, 1.00000e+00, 0.00000e+00, 0.00000e+00, 0.00000e+00,\n",
       "       0.00000e+00, 0.00000e+00, 0.00000e+00, 0.00000e+00, 0.00000e+00,\n",
       "       0.00000e+00, 1.00000e+00, 0.00000e+00, 4.99999e+05, 4.99997e+05,\n",
       "       4.99994e+05, 4.99988e+05, 4.99975e+05, 4.99953e+05, 4.99914e+05,\n",
       "       4.99841e+05, 4.99711e+05, 4.99472e+05, 4.99040e+05, 4.98261e+05,\n",
       "       4.96965e+05, 4.94911e+05, 4.91768e+05, 4.87105e+05, 4.80318e+05,\n",
       "       4.70563e+05, 4.56678e+05, 4.37234e+05, 4.10310e+05, 3.73623e+05,\n",
       "       3.24302e+05, 2.59071e+05, 1.77603e+05, 8.50080e+04, 4.99500e+03,\n",
       "       0.00000e+00, 2.70000e+01])"
      ]
     },
     "execution_count": 13,
     "metadata": {},
     "output_type": "execute_result"
    }
   ],
   "source": [
    "node[-10]"
   ]
  },
  {
   "cell_type": "code",
   "execution_count": 11,
   "metadata": {},
   "outputs": [
    {
     "data": {
      "text/plain": [
       "1661"
      ]
     },
     "execution_count": 11,
     "metadata": {},
     "output_type": "execute_result"
    }
   ],
   "source": [
    "word2idx[\"Paris\"]"
   ]
  },
  {
   "cell_type": "code",
   "execution_count": 12,
   "metadata": {},
   "outputs": [
    {
     "data": {
      "text/plain": [
       "930"
      ]
     },
     "execution_count": 12,
     "metadata": {},
     "output_type": "execute_result"
    }
   ],
   "source": [
    "word2idx[\"Korea\"]"
   ]
  },
  {
   "cell_type": "code",
   "execution_count": 27,
   "metadata": {},
   "outputs": [],
   "source": [
    "with open(\"./best22model.pickle\", 'rb') as f:\n",
    "    x = pickle.load(f)\n",
    "\n",
    "\n",
    "model.params = x"
   ]
  },
  {
   "cell_type": "code",
   "execution_count": 28,
   "metadata": {},
   "outputs": [],
   "source": [
    "W_in = model.params[0]"
   ]
  },
  {
   "cell_type": "code",
   "execution_count": 29,
   "metadata": {},
   "outputs": [],
   "source": [
    "a = W_in[word2idx[\"quick\"]]\n",
    "b = W_in[word2idx[\"quickly\"]]\n",
    "c = W_in[word2idx[\"slow\"]]"
   ]
  },
  {
   "cell_type": "code",
   "execution_count": 30,
   "metadata": {},
   "outputs": [],
   "source": [
    "r = cosine_similarity(W_in, c+b-a)"
   ]
  },
  {
   "cell_type": "code",
   "execution_count": 31,
   "metadata": {},
   "outputs": [],
   "source": [
    "result = r.argsort()[-15:-1]"
   ]
  },
  {
   "cell_type": "code",
   "execution_count": 32,
   "metadata": {},
   "outputs": [
    {
     "data": {
      "text/plain": [
       "array([ 703, 3930, 1638, 2322,  829, 2026, 1156,  593, 1994,  308, 1684,\n",
       "       3834,  941, 1003], dtype=int64)"
      ]
     },
     "execution_count": 32,
     "metadata": {},
     "output_type": "execute_result"
    }
   ],
   "source": [
    "result"
   ]
  },
  {
   "cell_type": "code",
   "execution_count": 33,
   "metadata": {},
   "outputs": [
    {
     "name": "stdout",
     "output_type": "stream",
     "text": [
      "fall\n",
      "temperatures\n",
      "falling\n",
      "weak\n",
      "soon\n",
      "fast\n",
      "rising\n",
      "continue\n",
      "grow\n",
      "economy\n",
      "inflation\n",
      "slowly\n",
      "recession\n",
      "quickly\n"
     ]
    }
   ],
   "source": [
    "for i in result:\n",
    "    print(idx2word[i])"
   ]
  },
  {
   "cell_type": "code",
   "execution_count": 17,
   "metadata": {},
   "outputs": [
    {
     "name": "stdout",
     "output_type": "stream",
     "text": [
      "0.13965392112731934\n"
     ]
    }
   ],
   "source": [
    "tt = np.random.random((1000000))\n",
    "aa = np.random.random((1000000))\n",
    "st = time.time()\n",
    "for i in zip(tt,aa):\n",
    "    z = i\n",
    "    \n",
    "print(time.time() - st)"
   ]
  },
  {
   "cell_type": "code",
   "execution_count": 18,
   "metadata": {},
   "outputs": [
    {
     "name": "stdout",
     "output_type": "stream",
     "text": [
      "0.09175300598144531\n"
     ]
    }
   ],
   "source": [
    "st = time.time()\n",
    "for i in tt:\n",
    "    z = i\n",
    "print(time.time() - st)"
   ]
  },
  {
   "cell_type": "code",
   "execution_count": 29,
   "metadata": {},
   "outputs": [],
   "source": [
    "q = [1,2,3,4,1,2,3,4,1,2]\n",
    "r = [1,2,6,3,2]"
   ]
  },
  {
   "cell_type": "code",
   "execution_count": 45,
   "metadata": {},
   "outputs": [],
   "source": [
    "a = []\n",
    "for i in range(100000):\n",
    "    a.append(q)\n",
    "    a.append(r)"
   ]
  },
  {
   "cell_type": "code",
   "execution_count": 53,
   "metadata": {},
   "outputs": [
    {
     "data": {
      "text/plain": [
       "28"
      ]
     },
     "execution_count": 53,
     "metadata": {},
     "output_type": "execute_result"
    }
   ],
   "source": [
    "max_depth"
   ]
  },
  {
   "cell_type": "code",
   "execution_count": 15,
   "metadata": {},
   "outputs": [],
   "source": [
    "test = np.zeros((10,10))"
   ]
  },
  {
   "cell_type": "code",
   "execution_count": 27,
   "metadata": {},
   "outputs": [
    {
     "data": {
      "text/plain": [
       "2000"
      ]
     },
     "execution_count": 27,
     "metadata": {},
     "output_type": "execute_result"
    }
   ],
   "source": [
    "len(a)"
   ]
  },
  {
   "cell_type": "code",
   "execution_count": 90,
   "metadata": {},
   "outputs": [
    {
     "name": "stdout",
     "output_type": "stream",
     "text": [
      "0.009998321533203125\n"
     ]
    }
   ],
   "source": [
    "st = time.time()\n",
    "for i in a:\n",
    "    z = i\n",
    "print(time.time() - st)"
   ]
  },
  {
   "cell_type": "code",
   "execution_count": 91,
   "metadata": {},
   "outputs": [
    {
     "name": "stdout",
     "output_type": "stream",
     "text": [
      "0.01296377182006836\n"
     ]
    }
   ],
   "source": [
    "st = time.time()\n",
    "for i in range(200000):\n",
    "    z = i\n",
    "print(time.time() - st)"
   ]
  },
  {
   "cell_type": "code",
   "execution_count": 75,
   "metadata": {},
   "outputs": [
    {
     "name": "stdout",
     "output_type": "stream",
     "text": [
      "0.13361883163452148\n"
     ]
    }
   ],
   "source": [
    "st = time.time()\n",
    "for i in range(10000):\n",
    "    np.random.choice(100000000,500)\n",
    "print(time.time() - st)"
   ]
  },
  {
   "cell_type": "code",
   "execution_count": null,
   "metadata": {},
   "outputs": [],
   "source": [
    "for i in range(10000):\n",
    "    "
   ]
  },
  {
   "cell_type": "code",
   "execution_count": 76,
   "metadata": {},
   "outputs": [],
   "source": [
    "import random"
   ]
  },
  {
   "cell_type": "code",
   "execution_count": 85,
   "metadata": {},
   "outputs": [
    {
     "data": {
      "text/plain": [
       "534123436.1543744"
      ]
     },
     "execution_count": 85,
     "metadata": {},
     "output_type": "execute_result"
    }
   ],
   "source": [
    "random.random() * 1e+9"
   ]
  },
  {
   "cell_type": "code",
   "execution_count": 93,
   "metadata": {},
   "outputs": [
    {
     "data": {
      "text/plain": [
       "array([515059,  13757, 113888, ..., 315601, 832453, 176939])"
      ]
     },
     "execution_count": 93,
     "metadata": {},
     "output_type": "execute_result"
    }
   ],
   "source": [
    "np.random.permutation(1000000)"
   ]
  },
  {
   "cell_type": "code",
   "execution_count": null,
   "metadata": {},
   "outputs": [],
   "source": []
  }
 ],
 "metadata": {
  "kernelspec": {
   "display_name": "Python 3",
   "language": "python",
   "name": "python3"
  },
  "language_info": {
   "codemirror_mode": {
    "name": "ipython",
    "version": 3
   },
   "file_extension": ".py",
   "mimetype": "text/x-python",
   "name": "python",
   "nbconvert_exporter": "python",
   "pygments_lexer": "ipython3",
   "version": "3.7.4"
  }
 },
 "nbformat": 4,
 "nbformat_minor": 2
}
